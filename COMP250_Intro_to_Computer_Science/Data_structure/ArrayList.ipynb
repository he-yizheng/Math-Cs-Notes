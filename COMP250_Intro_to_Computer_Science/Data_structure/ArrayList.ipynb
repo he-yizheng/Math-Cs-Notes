{
 "cells": [
  {
   "cell_type": "markdown",
   "metadata": {
    "slideshow": {
     "slide_type": "notes"
    }
   },
   "source": [
    "## List\n",
    "Data structure for a sequence of elements."
   ]
  },
  {
   "cell_type": "markdown",
   "metadata": {
    "slideshow": {
     "slide_type": "slide"
    }
   },
   "source": [
    "#### Operations on lists:\n",
    "- get(i) // get the element at index i\n",
    "- set(i, e) // replace the element at i with e\n",
    "- add(i, e) // insert element e at index i\n",
    "- add(e) // insert element e at the end\n",
    "- remove(i) // remove element at index i\n",
    "- remove(e) // remove the element e from the list if exists\n",
    "- clear() // empties the list\n",
    "- isEmpty() // returns true if the list is empty\n",
    "- size() // returns the number of elements in the list\n",
    "- .....\n",
    "\n",
    "There are different ways of implementing lists.\n",
    "### Using an array to represent a list\n",
    "The idea is to use the array to store the elements of the list and keep track of how many elements we have added to the list through the use of a variable called size.  \n",
    "**With an array list, the elements are squeezed into the lowest indices possible so that there are no holes.** "
   ]
  },
  {
   "cell_type": "markdown",
   "metadata": {},
   "source": [
    "##### get(i)"
   ]
  },
  {
   "cell_type": "code",
   "execution_count": null,
   "metadata": {},
   "outputs": [],
   "source": [
    "get(i) {\n",
    "    if (i >= 0 && i < size) { // checking the index i makes sense\n",
    "        return a[i];\n",
    "    }\n",
    "    return null;\n",
    "}\n",
    "// i < size is necessary because it could be false while not raising out of bounds exception"
   ]
  },
  {
   "cell_type": "markdown",
   "metadata": {},
   "source": [
    "##### Set(i, e)"
   ]
  },
  {
   "cell_type": "code",
   "execution_count": null,
   "metadata": {},
   "outputs": [],
   "source": [
    "set (i, e) {\n",
    "    if (i >= 0 && i < size) {\n",
    "        a[i] = e;\n",
    "    }\n",
    "    return null;\n",
    "}"
   ]
  },
  {
   "cell_type": "markdown",
   "metadata": {},
   "source": [
    "This code replaces the existing value at that position in the list, which can cause losing the previous value in that slot.  \n",
    "An alternative is to return this previous element. In fact, the Java ArrayList class does this."
   ]
  },
  {
   "cell_type": "code",
   "execution_count": null,
   "metadata": {},
   "outputs": [],
   "source": [
    "set(i, e) {\n",
    "    tmp = get(i);\n",
    "    if (i >= 0 && i < size) {\n",
    "        a[i] = e;\n",
    "    }\n",
    "    return tmp;\n",
    "}"
   ]
  },
  {
   "cell_type": "markdown",
   "metadata": {},
   "source": [
    "##### Add(e)\n",
    "To deal with the case where the array is full, we need an resize() method."
   ]
  },
  {
   "cell_type": "code",
   "execution_count": null,
   "metadata": {},
   "outputs": [],
   "source": [
    "private void resize() {\n",
    "    int newSize = a.length * 2;\n",
    "    int[] tmp = new int[newSize];\n",
    "    for (int i = 0; i < size; i++) {\n",
    "        tmp[i] = a[i];\n",
    "    }\n",
    "    a = tmp;\n",
    "}"
   ]
  },
  {
   "cell_type": "code",
   "execution_count": null,
   "metadata": {},
   "outputs": [],
   "source": [
    "add(e) { // add to the end\n",
    "    if (size == a.length) {\n",
    "        resize();\n",
    "    }\n",
    "    a[size] = e;\n",
    "    size++;\n",
    "}"
   ]
  },
  {
   "cell_type": "code",
   "execution_count": null,
   "metadata": {},
   "outputs": [],
   "source": [
    "add(i, e) { // add at index i\n",
    "    if (i < 0 || i > size) {\n",
    "        throw new IndexOutOfBoundsException();\n",
    "    }\n",
    "    if (size == a.length) {\n",
    "        resize();\n",
    "    }\n",
    "    for (int j = size; j > i; j--) { // do nothing if i == size\n",
    "        a[j] = a[j - 1];  // shift elements to the right\n",
    "    }\n",
    "    a[i] = e; // insert e at index i\n",
    "    size++;\n",
    "}"
   ]
  },
  {
   "cell_type": "markdown",
   "metadata": {},
   "source": [
    "Note that add(i, e) does allow to add at the end of the list. That said, calling add(size, e) is equivalent to calling add(e).  \n",
    "This is different from the set method, which does not allow us to call set(size, e).  \n",
    "\n",
    "Also note that in the Java ArrayList class, the add method is overloaded. List in Java also overload the remove methods.\n",
    "\n",
    "##### Remove(i)"
   ]
  },
  {
   "cell_type": "code",
   "execution_count": null,
   "metadata": {},
   "outputs": [],
   "source": [
    "remove(i) {\n",
    "    if (i < 0 || i >= size) {\n",
    "        throw new IndexOutOfBoundsException();\n",
    "    }\n",
    "    tmp = a[i];\n",
    "    for (int j = i; j < size - 1; j++) {\n",
    "        a[j] = a[j + 1]; // shift elements to the left\n",
    "    }\n",
    "    size--;\n",
    "    return tmp;\n",
    "}"
   ]
  },
  {
   "cell_type": "markdown",
   "metadata": {},
   "source": [
    "##### Time complexity\n",
    "**Constant time access**  \n",
    "Regardless of the size of the list, we can access any element in the list in constant time, whether we are writing or reading.(get, set)  \n",
    "**Adding to or removing from**  \n",
    "Adding to or removing from near the back end of the list is typically fast, ignoring the case we need to resize. But operation on the front end of the list is slow.\n",
    "\n",
    "We will get back to this point when we compare array lists to linked lists.\n"
   ]
  },
  {
   "cell_type": "markdown",
   "metadata": {},
   "source": [
    "### Java's ArrayList Class\n",
    "\n",
    "If not specified, the initial capacity of an ArrayList is 10. When the underlying array needs to be resized, the size increases by 50%.\n",
    "Although the ArrayList class implements a list using an underlying array, the user of this class does not index the elements of the array directly.  \n",
    "Access to an array needs to be done through the get, set and other methods.\n",
    "\n",
    "ArrayList is a generic class in Java, which means whenever you construct an ArrayList object, you need to specify the type of the elements that will be stored in the list.  \n",
    "In Java, the class is defined ArrayList<E>, where E is call a *generic type*."
   ]
  },
  {
   "cell_type": "code",
   "execution_count": null,
   "metadata": {},
   "outputs": [],
   "source": [
    "// create an arraylist with initial capacity 10\n",
    "ArrayList<Shape> shapes = new ArrayList<Shape>();\n",
    "\n",
    "// creating an arraylist with initial capacity 23\n",
    "ArrayList<Shape> shapes = new ArrayList<Shape>(23);"
   ]
  },
  {
   "cell_type": "markdown",
   "metadata": {},
   "source": [
    "Note that both of the lists created above are empty. Their size is equal to 0.\n",
    "\n",
    "Another thing is that the type passed as parameter must be a reference type. You cannot use a primitive type between angle brackets.  \n",
    "Java has *wrapper* classes are used to represent primitive types as reference types. Conversion between primitive types and their corresponding wrapper classes is done automatically by the compiler."
   ]
  },
  {
   "cell_type": "code",
   "execution_count": null,
   "metadata": {},
   "outputs": [],
   "source": [
    "Integer x = 5; // this is autoboxing\n",
    "int y = x; // this is implicit unboxing "
   ]
  },
  {
   "cell_type": "markdown",
   "metadata": {},
   "source": [
    "## Singly Linked List\n",
    "\n",
    "Another list data structure - called a linked list - that partly avoids the problem we just discussed that array lists have when adding or removing from the front.  \n",
    "But linked lists are not a panacea. They have their own problems too.\n",
    "\n",
    "With array lists, each element was referenced by a slot in an array. With linked lists, each element is referenced by a node. A linked list node is an object that contains:\n",
    "- a reference to the element of a list\n",
    "- a reference to the next node in the linked list"
   ]
  },
  {
   "cell_type": "code",
   "execution_count": null,
   "metadata": {},
   "outputs": [],
   "source": [
    "class SNode<T> {\n",
    "    T element;\n",
    "    SNode<T> next;\n",
    "}"
   ]
  },
  {
   "cell_type": "markdown",
   "metadata": {},
   "source": [
    "where T is the generic type of the object in the list. We use the SNode class to define a SLinkedList class.\n",
    "\n",
    "Any non-empty linked list has a first element and a last element. If the list has just one element, then the first and last elements are the same.  \n",
    "A linked list thus has a first node and a last node. The first node is called the head of the list, and the last node is called the tail of the list.  \n",
    "As with array lists, we will keep track of the size of the list."
   ]
  },
  {
   "cell_type": "code",
   "execution_count": null,
   "metadata": {},
   "outputs": [],
   "source": [
    "class SLinkedList<T> {\n",
    "    SNode<T> head;\n",
    "    SNode<T> tail;\n",
    "    int size;\n",
    "\n",
    "    private class SNode<T> {\n",
    "        T element;\n",
    "        SNode<T> next;\n",
    "    }\n",
    "}"
   ]
  },
  {
   "cell_type": "markdown",
   "metadata": {},
   "source": [
    "We make the SNode class a private inner class, since the client of the linked list class will not ever\n",
    "directly manipulate the nodes. Rather the client only accesses the elements that are referenced by\n",
    "the nodes. Note that an inner class is not the same thing as a subclass! Inner classes affect visibility,\n",
    "not inheritance.\n",
    "\n",
    "#### Brief comparison of array lists and singly linked lists\n",
    "**Space efficiency**\n",
    "Suppose we have a linked list with size = 4. We will have 4 nodes, 4 elements, and a SLingkedList object, so 9 objects in total. For an array list, we will have 6 objects in total (4 elements, the arraylist object and the underlying array object).  \n",
    "We notice that the linked list uses more memory space than the array list.\n",
    "\n",
    "**Access Time**\n",
    "Linked list nodes can be anywhere in the memory, whereas the underlying array in array list is a block of consecutive location in memory. Having linked list nodes makes them flexible, no notion of running out of room. But that also means we don't have constant time access to elements in the list.\n",
    "\n",
    "**Constant Read/Write Time**\n",
    "One advantages of a linked list is that it allows you to add or remove an element at the front of the list in a constant amount of time.  \n",
    "To add an element at the front of the list, the idea is to first create a new node that reference this element, then make sure that this node points to the first node in the list, and finally update the referent to the head of the list."
   ]
  },
  {
   "cell_type": "markdown",
   "metadata": {},
   "source": [
    "##### addFirst(e)"
   ]
  },
  {
   "cell_type": "code",
   "execution_count": null,
   "metadata": {},
   "outputs": [],
   "source": [
    "addFirst(e) {\n",
    "    SNode newNode = new SNode();\n",
    "    newNode.element = e; (i)\n",
    "    newNode.next = head; (ii)\n",
    "    head = newNode;\n",
    "    size++;\n",
    "    if (tail == null) { // if the list was empty\n",
    "        tail = head;  // and it now contains one element\n",
    "    }\n",
    "}"
   ]
  },
  {
   "cell_type": "markdown",
   "metadata": {},
   "source": [
    "In the method addFirst(e), the order of the instruction (i) and (ii) is important. If we had used the opposite order, then the head = newNode instruction would indeed point to the new first node. However, we would not remember where the old first node was. The newNode.next = head instruction would cause newNode to reference itself.\n",
    "\n",
    "Also notice that we have considered the case that initial list was empty. This special case will arise sometimes.\n",
    "\n",
    "##### removeFirst()"
   ]
  },
  {
   "cell_type": "code",
   "execution_count": null,
   "metadata": {},
   "outputs": [],
   "source": [
    "removeFirst(){\n",
    "    if (head == null) {\n",
    "        throw new NoSuchElementException();\n",
    "    }\n",
    "    SNode tmp = head;\n",
    "    head = head.next;\n",
    "    tmp.next = null; //not necessary but conceptually cleaner\n",
    "    size--;\n",
    "    if (size == 0) {\n",
    "        tail = null;\n",
    "    }\n",
    "    return tmp.element;\n",
    "}"
   ]
  },
  {
   "cell_type": "markdown",
   "metadata": {},
   "source": [
    "Notice how we have used tmp here. If we had just started with (head = head.next), then the old\n",
    "first node in the list would still be pointing to the new first node in the list, even though the old\n",
    "first node isn’t part of the list. (This might not be a problem. But it isn’t clean, and sometimes\n",
    "these sorts of things can lead to other problems where you didn’t expect them.)  \n",
    "Also, in the code\n",
    "here, the method returns the element. Note how this is achieved by the tmp variable\n",
    "\n",
    "addFirst and removeFirst does not depend at all on the size of the list, performing in constant time.\n",
    "\n",
    "##### addLast(e)"
   ]
  },
  {
   "cell_type": "code",
   "execution_count": null,
   "metadata": {},
   "outputs": [],
   "source": [
    "addLast(e) {\n",
    "    SNode newNode = new SNode();\n",
    "    newNode.element = e;\n",
    "    if (tail == null) {\n",
    "        head = newNode;\n",
    "    } else {\n",
    "        tail.next = newNode; // make the last node in the list point to the new node\n",
    "    }\n",
    "    tail = newNode; // update the reference in the tail\n",
    "    size++;\n",
    "}"
   ]
  },
  {
   "cell_type": "markdown",
   "metadata": {},
   "source": [
    "##### removeLast()\n",
    "Removing the last node from a list is more complicated, however. The reason is that you need\n",
    "a reference of the node that comes before the tail node which you want to remove. This is the\n",
    "reference you need to update the tail and effectively remove the last element from the list. The\n",
    "problem is that for a general node this reference is stored only in the node that precedes it in the\n",
    "list. So to find it we need to search from the front of the list"
   ]
  },
  {
   "cell_type": "code",
   "execution_count": null,
   "metadata": {},
   "outputs": [],
   "source": [
    "removeLast() {\n",
    "    if (head == null) {\n",
    "        throw new NoSuchElementException();\n",
    "    }\n",
    "    SNode tmp = tail; // save the node to be removed\n",
    "    if (head == tail) { // if there is only one element in the list\n",
    "        head = null;\n",
    "        tail = null;\n",
    "    } else {\n",
    "        SNode current = head;\n",
    "        while (current.next != tail) {\n",
    "            current = current.next;\n",
    "        }\n",
    "        current.next = null;\n",
    "        tail = current;\n",
    "    }\n",
    "    size--;\n",
    "    return tmp.element;\n",
    "}"
   ]
  },
  {
   "cell_type": "markdown",
   "metadata": {},
   "source": [
    "This is much more expensive than what we had with\n",
    "an array implementation, where we had a constant cost in removing the last element from a list.\n",
    "\n",
    "### Doubly Linked List\n",
    "\n",
    "Each node of a\n",
    "doubly linked list has two links rather than one, namely references to the previous node in the list\n",
    "and to the next node in the list.  \n",
    "As with the singly linked list class, the node class is usually declared to be a private inner class.\n",
    "Here we define it within a DLinkedList class."
   ]
  },
  {
   "cell_type": "code",
   "execution_count": null,
   "metadata": {},
   "outputs": [],
   "source": [
    "class DLinkedList<T> {\n",
    "    DNode<T> head;\n",
    "    DNode<T> tail;\n",
    "    int size;\n",
    "\n",
    "    // ......\n",
    "\n",
    "    private class DNode<T> {\n",
    "        T element;\n",
    "        DNode<T> prev;\n",
    "        DNode<T> next;\n",
    "    }\n",
    "}"
   ]
  },
  {
   "cell_type": "markdown",
   "metadata": {},
   "source": [
    "The key advantage of doubly linked lists over a singly linked list is that the doubly linked lists\n",
    "allows us to quickly access elements near the back of the list. For example, to remove the last\n",
    "element of a doubly linked list, one simply does the following:"
   ]
  },
  {
   "cell_type": "code",
   "execution_count": null,
   "metadata": {},
   "outputs": [],
   "source": [
    "removeLast() {\n",
    "    if (head == null) {\n",
    "        throw new NoSuchElementException();\n",
    "    }\n",
    "    DNode tmp = tail;\n",
    "    if (head == tail) { // size == 1\n",
    "        head = null;\n",
    "        tail = null;\n",
    "    } else {\n",
    "        tail = tail.prev;\n",
    "        tail.next.prev = null; // not necessary but conceptually cleaner\n",
    "        tail.next = null;\n",
    "    }\n",
    "    size--;\n",
    "    return tmp.element;\n",
    "}"
   ]
  },
  {
   "cell_type": "markdown",
   "metadata": {},
   "source": [
    "##### Dummy Nodes\n",
    "\n",
    "When writing methods, one has to consider edge cases. For doubly linked lists, the edge cases are\n",
    "the first and last elements. These cases require special attention since head.prev and tail.next\n",
    "will be null which can cause errors in your methods if you are not careful.\n",
    "\n",
    "\n",
    "To avoid such errors, it is common to define doubly linked lists by using a “dummy” head\n",
    "node and a “dummy” tail node, instead of head and tail reference variables. The dummy nodes\n",
    "are objects of type DNode just like the other nodes in the list. However, these nodes have a null\n",
    "element. Dummy nodes do not contribute to the size count, since the purpose of size is to\n",
    "indicate the number of elements in the list (see figures in slides). Note that dummy nodes are an\n",
    "implementation trick, they do not add any feature to the linked list. They simply help us writing\n",
    "cleaner code and allow us to prevent unwanted errors."
   ]
  },
  {
   "cell_type": "code",
   "execution_count": null,
   "metadata": {},
   "outputs": [],
   "source": [
    "class DLinkedList<E> {\n",
    "    DNode<E> dummyHead;\n",
    "    DNode<E> dummyTail;\n",
    "    int size;\n",
    "\n",
    "    // constructor\n",
    "\n",
    "    DeLinkedList() {\n",
    "        dummyHead = new DNode<E>();\n",
    "        dummyTail = new DNode<E>();\n",
    "        dummyHead.next = dummyTail;\n",
    "        dummyTail.prev = dummyHead;\n",
    "        size = 0;\n",
    "    }\n",
    "\n",
    "    // ... List methods and more\n",
    "}"
   ]
  },
  {
   "cell_type": "markdown",
   "metadata": {},
   "source": [
    "Up to now we have been focusing on adding and removing elements from either the front or the\n",
    "back of the list. Let’s now look at some general operations we would like to perform on lists. We’ll\n",
    "look at the implementation of the methods using a DLinkedList. Let’s start with a basic getter\n",
    "which gets the i-th element in the list"
   ]
  },
  {
   "cell_type": "code",
   "execution_count": null,
   "metadata": {},
   "outputs": [],
   "source": [
    "private getNode(i) {\n",
    "    if (i < 0 || i >= size) {\n",
    "        throw new IndexOutOfBoundsException();\n",
    "    }\n",
    "    DNode<E> current = dummyHead.next;\n",
    "    for (int j = 0; j < i; j++) {\n",
    "        current = current.next;\n",
    "    }\n",
    "    return current;\n",
    "}\n",
    "\n",
    "get(i) {\n",
    "    return getNode(i).element;\n",
    "}"
   ]
  },
  {
   "cell_type": "markdown",
   "metadata": {},
   "source": [
    "##### Remove(i)"
   ]
  },
  {
   "cell_type": "code",
   "execution_count": null,
   "metadata": {},
   "outputs": [],
   "source": [
    "remove(i) {\n",
    "    DNode<E> current = getNode(i);\n",
    "    current.prev.next = current.next;\n",
    "    current.next.prev = current.prev;\n",
    "    size--;\n",
    "    return current.element;\n",
    "}"
   ]
  },
  {
   "cell_type": "markdown",
   "metadata": {},
   "source": [
    "This code modifies the next reference of the node that comes before the i-th node, that is node.prev,\n",
    "and it modifies the prev reference of the node that comes after the i-th node, that is node.next.\n",
    "Because we are using dummy nodes, this mechanism works even if i = 0 or i = size-1.\n",
    "\n",
    "Without\n",
    "dummy nodes, node.prev is null when i = 0, and node.next is null when i = size - 1, so we would need to add additional code in the method above to prevent a NullPointerException from\n",
    "being raised. Using dummy nodes allows us to not worry about this.\n",
    "[ASIDE: note that I am not bothering to set the next and prev references in the removed node to\n",
    "null. But you could do that if you want. ]\n",
    "\n",
    "The getNode() can be more efficient than that."
   ]
  },
  {
   "cell_type": "code",
   "execution_count": null,
   "metadata": {},
   "outputs": [],
   "source": [
    "getNode(i) {\n",
    "    if (i < 0 || i >= size) {\n",
    "        throw new IndexOutOfBoundsException();\n",
    "    }\n",
    "    \n",
    "    if (i < size / 2) {\n",
    "        DNode<E> current = dummyHead.next;\n",
    "        for (int j = 0; j < i; j++) {\n",
    "            current = current.next;\n",
    "        }\n",
    "        return current;\n",
    "    } else {\n",
    "        DNode<E> current = dummyTail.prev;\n",
    "        for (int j = size - 1; j > i; j--) {\n",
    "            current = current.prev;\n",
    "        }\n",
    "        return current;\n",
    "    }\n",
    "}"
   ]
  },
  {
   "cell_type": "markdown",
   "metadata": {},
   "source": [
    "The getNode(i) method still takes size/2 operations in the worst case. Although this worst\n",
    "case is a factor of 2 smaller for doubly linked list than for singly linked lists, it still grows linearly\n",
    "with the size of the list. Thus we say that both get(i) and remove(i) for doubly linked lists is\n",
    "O(N ) when N is the size of the size. This is the same for singly linked lists. Saving a factor of 2\n",
    "by using the trick of starting from the tail of the list half the time is useful and does indeed speed\n",
    "things up, but only by a proportionality factor. It doesn’t change the fact that in the worst case\n",
    "the time is takes grows linearly with the size of the list.\n",
    "\n",
    "Note that the remove(i) method has the same time complexity for linked lists as for array lists.\n",
    "The get(i) method on the other hand takes constant time for array lists, while is O(N ) for linked\n",
    "lists"
   ]
  },
  {
   "cell_type": "markdown",
   "metadata": {},
   "source": [
    "### Java LinkedList Class\n",
    "Java LinkedList class is a doubly linked list implementation."
   ]
  },
  {
   "cell_type": "code",
   "execution_count": null,
   "metadata": {},
   "outputs": [],
   "source": [
    "LinkedList<T> list = new LinkedList<T>();"
   ]
  },
  {
   "cell_type": "markdown",
   "metadata": {},
   "source": [
    "The LinkedList class has more methods than the ArrayList class. In particular, the LinkedList\n",
    "class has addFirst() and removeFirst() methods. Recall removing elements from near the front\n",
    "was expensive for an array list."
   ]
  },
  {
   "cell_type": "markdown",
   "metadata": {},
   "source": [
    "### Time Complexity\n",
    "![Description of the image](time_complexity.png)"
   ]
  }
 ],
 "metadata": {
  "kernelspec": {
   "display_name": "Java",
   "language": "java",
   "name": "java"
  },
  "language_info": {
   "codemirror_mode": "java",
   "file_extension": ".jshell",
   "mimetype": "text/x-java-source",
   "name": "java",
   "pygments_lexer": "java",
   "version": "22.0.2+9-70"
  }
 },
 "nbformat": 4,
 "nbformat_minor": 4
}

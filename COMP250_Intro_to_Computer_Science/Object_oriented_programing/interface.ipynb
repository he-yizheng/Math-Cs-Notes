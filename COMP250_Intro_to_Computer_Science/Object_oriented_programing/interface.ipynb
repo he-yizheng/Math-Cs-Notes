{
 "cells": [
  {
   "cell_type": "markdown",
   "metadata": {},
   "source": [
    "### Interfaces\n",
    "\n",
    "Similarly to classes, interfaces can have fields and methods but the following restrictions apply:\n",
    "- All methods are by default public and abstract\n",
    "- All fields are by default public, static and final\n",
    "\n",
    "Interface can not be instantiated.\n",
    "\n",
    "We declare an interface using the `interface` keyword."
   ]
  },
  {
   "cell_type": "code",
   "execution_count": null,
   "metadata": {},
   "outputs": [],
   "source": [
    "interface MonsterLike {\n",
    "    public int spook();\n",
    "    public void runAway();\n",
    "}"
   ]
  },
  {
   "cell_type": "markdown",
   "metadata": {},
   "source": [
    "An interface is implicitly abstract. We do not need to use the abstract keyword while declaring an interface.\n",
    "\n",
    "All methods in the inferface are implicitly abstract as well."
   ]
  },
  {
   "cell_type": "markdown",
   "metadata": {},
   "source": [
    "#### Inheritance\n",
    "\n",
    "To use an interface, we first need a class that implements it. Interfaces specify what a class must do and not how.\n",
    "\n",
    "A class can implement more than one interface, using keyword `implements`.\n",
    "Interface are used to achieve subtyping.\n",
    "\n",
    "If a class implements an interface and does not implement all methods specified by the interface then that class must be declared abstract.\n",
    "\n",
    "It is possible for a Java interface to extend another Java interface, just like classes extend other classes. You specify the interfaces you want to extend in the `extends` clause."
   ]
  },
  {
   "cell_type": "code",
   "execution_count": null,
   "metadata": {},
   "outputs": [],
   "source": [
    "public class Dragon implements MonsterLike {\n",
    "    ...\n",
    "}"
   ]
  },
  {
   "cell_type": "markdown",
   "metadata": {},
   "source": [
    "Inside the class `Dragon`, the methods spook() and runAway() must be implemented.\n",
    "\n",
    "Note: if the interfaces are not located in the same packages as the\n",
    "implementing class, you will also need to import the interfaces. Java\n",
    "interfaces are imported using the import statements just like Java classes."
   ]
  },
  {
   "cell_type": "markdown",
   "metadata": {},
   "source": [
    "#### Interface instances\n",
    "\n",
    "Once a Java class implements an Java interface you can use an instance of that class as an instance of that interface."
   ]
  },
  {
   "cell_type": "code",
   "execution_count": null,
   "metadata": {},
   "outputs": [],
   "source": [
    "public class Hero {\n",
    "    public double fight(MonsterLike m) {\n",
    "        ...\n",
    "    }\n",
    "}"
   ]
  },
  {
   "cell_type": "markdown",
   "metadata": {},
   "source": [
    "#### Extends + implements\n",
    "Classes can extend at most one class, but they can implement multiple interfaces:"
   ]
  },
  {
   "cell_type": "code",
   "execution_count": null,
   "metadata": {},
   "outputs": [],
   "source": [
    "public class Dragon extends Enemy implements MonsterLikst, FireBreather{\n",
    "    ...\n",
    "}"
   ]
  },
  {
   "cell_type": "markdown",
   "metadata": {},
   "source": [
    "`Dragon` is a subtype of (at least) Enemy, MonsterLike, and FireBreather. An instance of Dragon can be used whenever an object of those types is required."
   ]
  },
  {
   "cell_type": "markdown",
   "metadata": {},
   "source": [
    "#### Interfaces vs. Abstract Classes\n",
    "\n",
    "| Abstract Class | Interface |\n",
    "|----------------|-----------|\n",
    "|        No all methods have to be abstract        |     All methods are abstract by default      |\n",
    "|       The abstract keyword must be directly use to declare a class to be abstract         |    Interfaces are implicitly abstract       |\n",
    "|       Can contain methods that have been implemented as well as instance variables         |   No method can be implemented and only constants (final static fields) can be declared       |\n",
    "|        Abstract classes are useful when some general methods should be implemented and specialization behavior should be implemented by child classes        |   Interfaces are useful in a situation that all properties should be implemented        |\n",
    "\n",
    "#### Post Java 8\n",
    "After Java 8, interfaces can also contain the following\n",
    "- Default methods\n",
    "- Static methods\n",
    "- Private methods\n",
    "- Private static methods"
   ]
  },
  {
   "cell_type": "markdown",
   "metadata": {},
   "source": [
    "### Generic in Java\n",
    "A generic type is a class or interface that is parameterized over types. We use angle brackets (<>) to specify the type parameter.\n",
    "\n",
    "Example:"
   ]
  },
  {
   "cell_type": "code",
   "execution_count": null,
   "metadata": {},
   "outputs": [],
   "source": [
    "public class Cage<T> {\n",
    "    private T occupant;\n",
    "\n",
    "    public Cage(T occupant) {\n",
    "        this.occupant = occupant;\n",
    "    }\n",
    "\n",
    "    public T getOccupant() {\n",
    "        return occupant;\n",
    "    }\n",
    "\n",
    "    public void setOccupant(T occupant) {\n",
    "        this.occupant = occupant;\n",
    "    }\n",
    "\n",
    "    public static void main(String[] args) {\n",
    "        Cage<Dragon> dragonCage = new Cage<>(new Dragon());\n",
    "        Dragon dragon = dragonCage.getOccupant();\n",
    "        // if we call a dragon cage, we muse provide a dragon\n",
    "        System.out.println(\"Cage contains: \" + dragon);\n",
    "\n",
    "        Cage<Hero> heroCage = new Cage<>(new Hero());\n",
    "        Hero hero = heroCage.getOccupant();\n",
    "        System.out.println(\"Cage contains: \" + hero);\n",
    "    }\n",
    "}"
   ]
  },
  {
   "cell_type": "markdown",
   "metadata": {},
   "source": [
    "#### Generic type naming conventions\n",
    "- Usually type parameter names are single, uppercase letters to make it easily distinguishable from Java variables.\n",
    "- E - Element\n",
    "- K - Key (Used in Map)\n",
    "- N - Number\n",
    "- T - Type\n",
    "- V - Value (Used in Map)\n",
    "- S, U, V etc. - 2nd, 3rd, 4th types"
   ]
  },
  {
   "cell_type": "markdown",
   "metadata": {},
   "source": [
    "### Bounded type\n",
    "Sometimes you want to restrict the types that can be used as type arguments in a parameterized type. \n",
    "\n",
    "We do that using the keyword `extends`. In this context, `extends` should be read as \"extends (as in class)\" or \"implements (as in interfaces)\".\n",
    "\n",
    "Not only this will limit the types we can used to instantiate a generic type, but it will allow us to access the methods defined in the bounds."
   ]
  },
  {
   "cell_type": "code",
   "execution_count": null,
   "metadata": {},
   "outputs": [],
   "source": [
    "public class Cage<T extends MonsterLike> {\n",
    "    private T occupant;\n",
    "    public T peek() {\n",
    "    this.occupant.spook();\n",
    "    return this.occupant;\n",
    "    }\n",
    "    public void release() {\n",
    "    this.occupant = null;\n",
    "    this.occupant.ranAway();\n",
    "    }\n",
    "}"
   ]
  },
  {
   "cell_type": "markdown",
   "metadata": {},
   "source": [
    "### How interfaces are used in Java\n",
    "#### Example of list interfaces"
   ]
  },
  {
   "cell_type": "code",
   "execution_count": null,
   "metadata": {},
   "outputs": [],
   "source": [
    "public interface List<E> extends Collection<E>{\n",
    "    boolean add(E e);\n",
    "    void add(int i, E e);\n",
    "    boolean isEmpty();\n",
    "    E get(int i);\n",
    "    E remove(int i);\n",
    "    int size();\n",
    "    ...\n",
    "}"
   ]
  },
  {
   "cell_type": "code",
   "execution_count": null,
   "metadata": {},
   "outputs": [],
   "source": [
    "public class ArrayList<E> implements List<E>{\n",
    "    boolean add(E e) {...}\n",
    "    void add(int i, E e) {...}\n",
    "    boolean isEmpty() {...}\n",
    "    E get(int i) {...}\n",
    "    E remove(int i) {...}\n",
    "    int size() {...}\n",
    "    void ensureCapacity(int i) {...}\n",
    "    void trimToSize() {...}\n",
    "}"
   ]
  },
  {
   "cell_type": "code",
   "execution_count": null,
   "metadata": {},
   "outputs": [],
   "source": [
    "public class LinkedList<E> implements List<E>{\n",
    "    boolean add(E e) {...}\n",
    "    void add(int i, E e) {...}\n",
    "    boolean isEmpty() {...}\n",
    "    E get(int i) {...}\n",
    "    E remove(int i) {...}\n",
    "    int size() {...}\n",
    "    void addFirst(E e) {...}\n",
    "    void addLast(E e) {...}\n",
    "    }"
   ]
  },
  {
   "cell_type": "markdown",
   "metadata": {},
   "source": [
    "#### Another example of applied interfaces\n",
    "Interfaces define new data types. We can create variables of those type and assign to them any value referencing to instance of classes that implement the specific interface."
   ]
  },
  {
   "cell_type": "code",
   "execution_count": null,
   "metadata": {},
   "outputs": [],
   "source": [
    "List<String> greetings;\n",
    "greetings = new ArrayList<String>();\n",
    "greetings.add(\"Hello\");\n",
    ":\n",
    "greetings = new LinkedList<String>();\n",
    "greetings.add(\"Good day!\");"
   ]
  },
  {
   "cell_type": "markdown",
   "metadata": {},
   "source": [
    "Whenever an object of type `List` is required, any instance of any of the classes that implement `List` can be used.\n",
    "\n",
    "So, in this case, `myMethod()` can be called both with an ArrayList or a LinkedList as a parameter."
   ]
  },
  {
   "cell_type": "code",
   "execution_count": null,
   "metadata": {},
   "outputs": [],
   "source": [
    "public void myMethod(List<String> list) {\n",
    "    list.add(\"one more\");\n",
    "    list.remove(3);\n",
    "    :\n",
    "}"
   ]
  },
  {
   "cell_type": "code",
   "execution_count": null,
   "metadata": {},
   "outputs": [],
   "source": [
    "public void myMethod(List<String> list) {\n",
    "    list.add(\"one more\");\n",
    "    list.remove(3);\n",
    "    :\n",
    "    list.addLast(\"Bye bye\"); // compile-time error. Why??\n",
    "}"
   ]
  },
  {
   "cell_type": "markdown",
   "metadata": {},
   "source": [
    "Why is this a compile-time error? Because the List interface does not have an addLast method."
   ]
  },
  {
   "cell_type": "markdown",
   "metadata": {},
   "source": [
    "### Inheritance\n",
    "A class (abstract or not) can extend at most one class, but it can implement multiple interfaces.\n",
    "\n",
    "Why a class can only have one superclass but can implement multiple interfaces?\n",
    "\n",
    "The problem could occur if two superclasses have implemented methods with the same signature. In this case, the compiler would not know which method to call.\n",
    "\n",
    "An interface can extend multiple interfaces. "
   ]
  },
  {
   "cell_type": "markdown",
   "metadata": {},
   "source": [
    "### Java Comparable interface\n",
    "\n",
    "- The java `Comparable` interface is used to define an ordering on the objects of user-defined class.\n",
    "- Why we need that? If we have a list of objects from a given class you might want to be able to sort it.\n",
    "- `Comparable` is part of `java.lang` package and contains only one method named `compareTo(Object)`."
   ]
  },
  {
   "cell_type": "code",
   "execution_count": null,
   "metadata": {},
   "outputs": [],
   "source": [
    "public interface Comparable<T> {\n",
    "    public int compareTo(T o);\n",
    "}"
   ]
  },
  {
   "cell_type": "markdown",
   "metadata": {},
   "source": [
    "Some of the methods from certain Java classes use compareTo method in their implementation. To function correctly, they assume to be working with Comparable generic types. Examples:\n",
    "<p align=\"center\">\n",
    "    <img src=\"Img/comparable_example.png\" width=\"85%\">\n",
    "</p>\n",
    "\n",
    "#### Classes that implement Comparable&lt;T&gt;\n",
    "\n",
    "Character, Integer, Float, Double, BigInteger, etc. all implement Comparable&lt;T&gt;.\n",
    "\n",
    "You cannot compare objects of these class using the \"<\" operator. Instead, you should use the compareTo method.\n",
    "\n",
    "#### How to implement Comparable&lt;T&gt; interface\n",
    "\n",
    "Add the `implements Comparable<T>` clause to the class declaration\n",
    "Implement the `compareTo` method"
   ]
  },
  {
   "cell_type": "code",
   "execution_count": null,
   "metadata": {},
   "outputs": [],
   "source": [
    "public class T implements Comparable<T> {\n",
    "    public int compareTo(T o) {\n",
    "        ...\n",
    "    }\n",
    "}"
   ]
  },
  {
   "cell_type": "markdown",
   "metadata": {
    "vscode": {
     "languageId": "java"
    }
   },
   "source": [
    "Why we want to implement an interface? Directly writing method may results in the method not being recognized by the compiler. \n",
    "\n",
    "Also, using interface provides a way to ensure that the method is implemented in the class, better for code maintenance.\n",
    "\n",
    "Here is an example of how not implementing the interface can lead to a compile-time error:\n",
    "\n"
   ]
  },
  {
   "cell_type": "code",
   "execution_count": null,
   "metadata": {},
   "outputs": [],
   "source": [
    "public class MyClass {\n",
    "    private int value;\n",
    "\n",
    "    public MyClass(int value) {\n",
    "        this.value = value;\n",
    "    }\n",
    "\n",
    "    // Custom compareTo method without implementing Comparable\n",
    "    public int compareTo(MyClass other) {\n",
    "        return Integer.compare(this.value, other.value);\n",
    "    }\n",
    "\n",
    "    @Override\n",
    "    public String toString() {\n",
    "        return String.valueOf(value);\n",
    "    }\n",
    "}\n",
    "\n",
    "import java.util.ArrayList;\n",
    "import java.util.Collections;\n",
    "import java.util.List;\n",
    "\n",
    "public class Main {\n",
    "    public static void main(String[] args) {\n",
    "        List<MyClass> list = new ArrayList<>();\n",
    "        list.add(new MyClass(3));\n",
    "        list.add(new MyClass(1));\n",
    "        list.add(new MyClass(2));\n",
    "\n",
    "        // Attempt to sort the list\n",
    "        Collections.sort(list);\n",
    "\n",
    "        // Print the sorted list\n",
    "        for (MyClass item : list) {\n",
    "            System.out.println(item);\n",
    "        }\n",
    "    }\n",
    "}"
   ]
  },
  {
   "cell_type": "markdown",
   "metadata": {
    "vscode": {
     "languageId": "java"
    }
   },
   "source": [
    "This code will result in a compilation error because Collections.sort() expects the elements to be instances of Comparable.\n",
    "\n",
    "To fix this, you need to implement the Comparable interface. Now, the Collections.sort() method will recognize the compareTo method and sort the list correctly:"
   ]
  },
  {
   "cell_type": "markdown",
   "metadata": {},
   "source": [
    "#### Requirements for implementing compareTo method\n",
    "Consider two variables, `x` and `y` or type `T`. The `compareTo` method should return:\n",
    "\n",
    "$$\n",
    "x.compareTo(y) =\n",
    "\\begin{cases} \n",
    "\\text{negative int} & \\text{if } x < y \\\\\n",
    "0 & \\text{if } x = y \\\\\n",
    "\\text{positive int} & \\text{if } x > y \n",
    "\\end{cases}\n",
    "$$\n",
    "The relation should be anticommutative and transitive.\n",
    "Highly recommmended:\n",
    "- (x.compareTo(y) == 0) == (x.equals(y))\n",
    "\n",
    "Here is an example:"
   ]
  },
  {
   "cell_type": "code",
   "execution_count": null,
   "metadata": {},
   "outputs": [],
   "source": [
    "public class Orc implements Comparable<Orc> {\n",
    "    private String name;\n",
    "    private Integer height;\n",
    "    private Weapon w;\n",
    "\n",
    "    @Override\n",
    "    public int compareTo(Orc o) {\n",
    "        int result = this.w.compareTo(o.w);\n",
    "        if (result == 0) {\n",
    "            result = this.height.compareTo(o.height);\n",
    "        }\n",
    "        if (result == 0) {\n",
    "            result = this.name.compareTo(o.name);\n",
    "        }\n",
    "        return result;\n",
    "    }\n",
    "}"
   ]
  },
  {
   "cell_type": "markdown",
   "metadata": {
    "vscode": {
     "languageId": "java"
    }
   },
   "source": [
    "#### Recap\n",
    "Comparable defines a natural odering.\n",
    "\n",
    "If you define a new data type for which sorting makes sense, then you should implement `Comparable<T>` to define a natural ordering on objects of that type."
   ]
  },
  {
   "cell_type": "markdown",
   "metadata": {},
   "source": [
    "### Java Iterable and Iterator interface\n",
    "- Objects of type `Iterable` are representations of a series of elements that can be iterated over. (e.g. a specific ArrayList)\n",
    "- Objects of type `Iterator` allows you to iterate through objects that represent a collection (a series of elements)."
   ]
  },
  {
   "cell_type": "code",
   "execution_count": null,
   "metadata": {},
   "outputs": [],
   "source": [
    "public interface Iterable<T> {\n",
    "    Iterator<T> iterator();\n",
    "}\n",
    "\n",
    "public interface Iterator<E> {\n",
    "    boolean hasNext();\n",
    "    E next();\n",
    "    void remove();\n",
    "}"
   ]
  },
  {
   "cell_type": "markdown",
   "metadata": {},
   "source": [
    "A class that implements the `Iterable` interface needs to implement the `iterator()` method. This method should return an object of type `Iterator` that can then be used to iterate over the elements this instance.\n",
    "\n",
    "A class that implements the `Iterator` interface needs to implement the methods `hasNext()` and `next()`. \n",
    "\n",
    "With the iterator, you can iterate over the elements of the collection. If you want to traverse the collection again, you need to create a new iterator.\n",
    "\n",
    "#### How to implement the interfaces\n",
    "\n",
    "- When we write a class that implements the `Iterable` we also write a class that implements the `Iterator` interface. Often, the `Iterator` class is an inner class of the `Iterable` class.\n",
    "- This is because we need to implement the method `iterator()` that returns an object of type `Iterator` that can iterate over the elements of a specific object of the outer class.\n",
    "\n",
    "**Example**"
   ]
  },
  {
   "cell_type": "code",
   "execution_count": null,
   "metadata": {},
   "outputs": [],
   "source": [
    "public class MyCollection<T> implements Iterable<T> {\n",
    "    public MyIterator<T> iterator() {\n",
    "        return new MyIterator<T>(this);\n",
    "    }\n",
    "    private class MyIterator<T> implements Iterator<T> {\n",
    "        public MyIterator(MyCollection<T> collection) {\n",
    "            ...\n",
    "        }\n",
    "    }\n",
    "}"
   ]
  },
  {
   "cell_type": "markdown",
   "metadata": {},
   "source": [
    "In general, if the class `MyIterator` is only used by the class `MyCollection`, it's good to make that class a private inner class of `MyCollection`."
   ]
  }
 ],
 "metadata": {
  "kernelspec": {
   "display_name": "Java",
   "language": "java",
   "name": "java"
  },
  "language_info": {
   "codemirror_mode": "java",
   "file_extension": ".jshell",
   "mimetype": "text/x-java-source",
   "name": "java",
   "pygments_lexer": "java",
   "version": "22.0.2+9-70"
  }
 },
 "nbformat": 4,
 "nbformat_minor": 2
}

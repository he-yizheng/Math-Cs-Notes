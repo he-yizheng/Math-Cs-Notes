{
 "cells": [
  {
   "cell_type": "markdown",
   "metadata": {},
   "source": [
    "# Theory\n",
    "### Question 1.1\n",
    "1. What is a reference and why we use it?\n",
    "\n",
    "    A reference is a memory address. They are more efficient to pass around compared to passing the entire object. \n",
    "    \n",
    "    References also allow multiple parts of the program to hold the same (mutable) object, since if the object state changes in anyway then it is updated for all parts of the program that references it.\n",
    "\n",
    "\n"
   ]
  },
  {
   "cell_type": "markdown",
   "metadata": {
    "vscode": {
     "languageId": "java"
    }
   },
   "source": [
    "#### SideNote: Reference vs. Reference type: \n",
    "   *Reference*: A specific pointer to an object in memory. <br>\n",
    "   *Reference Type*: A type of data that is always accessed by reference (like objects, arrays, etc.), as opposed to value types that are directly accessed."
   ]
  },
  {
   "cell_type": "markdown",
   "metadata": {
    "vscode": {
     "languageId": "java"
    }
   },
   "source": [
    "2. (True/False) When declaring a multidimensional array, only the first dimension must be given, i.e. A[b][c] b must be given but not c.\n",
    "\n",
    "    **True**\n",
    "\n",
    "3. (True/False) The following equality holds in java\n",
    "\n",
    "    5 / 2 == Math.floor(5 / 2) == (int)(5 / 2) == (double)(5 / 2)\n"
   ]
  },
  {
   "cell_type": "code",
   "execution_count": 15,
   "metadata": {},
   "outputs": [
    {
     "name": "stdout",
     "output_type": "stream",
     "text": [
      "true\n"
     ]
    }
   ],
   "source": [
    "System.out.println((5 / 2 == Math.floor(5 / 2)) && (Math.floor(5 / 2) == (int)(5 / 2)) && ((int)(5 / 2) == (double)(5 / 2)));\n",
    "// It will false if we cast 5 to double first."
   ]
  },
  {
   "cell_type": "markdown",
   "metadata": {},
   "source": [
    "4. What does it mean for an object to be mutable/immutable? Give 1 benefit for each. [CL: Approaching Mastery]\n",
    "\n",
    "    Mutable object's state can change after instantiating. Immutable object cannot change, if the user whishes to change its state, a new instance must be created.\n",
    "\n",
    "    A benefit of mutability is simplicity, easier to implement. Another benefit is speed, since modification do not require a completely new object to be constructed.\n",
    "\n",
    "    A benefit of immutability is bug prevention (preventing logical errors). They can be passed around in functions and their states will never be changed.\n",
    "    Two variables holding the same reference can't influence each other by modifying its state.\n",
    "\n",
    "\n",
    "\n"
   ]
  },
  {
   "cell_type": "markdown",
   "metadata": {},
   "source": [
    "#### SideNote: Object's state, behavior and identity:\n",
    "1. An object's state is defined by the attributes of the object and by the values these have.\n",
    "\n",
    "2. The term \"behavior\" refers to how objects interact with each other, and it is defined by the operations an object can perform. In your case, student object, can do some activity?\n",
    "\n",
    "3. Identity: Every objects with the same properties and behavior have their own individual identity.\n",
    "\n",
    "\n",
    "*Note.* Identity and reference are closely related, but identity is about the object itself, while reference is about how we access that object."
   ]
  },
  {
   "cell_type": "markdown",
   "metadata": {
    "vscode": {
     "languageId": "java"
    }
   },
   "source": [
    "5. What is the point of type casting? Why does Java not allow implicit down-casting but allow implicit up-casting?  \n",
    "\n",
    "    Type casting allows the programmer to convert the type of a variable to another type. Without it it would be difficult to use polymorphism. \n",
    "\n",
    "    Implicit up-casting is allowed because it always succeed in runtime (compiler will catch errors if it is not possible). Implicit down-casting is not allowed because it can fail in runtime (compiler can't catch errors)."
   ]
  },
  {
   "cell_type": "markdown",
   "metadata": {
    "vscode": {
     "languageId": "java"
    }
   },
   "source": [
    "SideNote: Implicit up-casting is when you assign a subclass object to a superclass reference variable. Implicit down-casting is when you assign a superclass object to a subclass reference variable."
   ]
  },
  {
   "cell_type": "markdown",
   "metadata": {
    "vscode": {
     "languageId": "java"
    }
   },
   "source": [
    "6. What is the default value for declared but not initialized variables in Java?\n",
    "\n",
    "    The default value for declared but not initialized variables in Java is 0 for numeric types, false for boolean, and null for object references."
   ]
  },
  {
   "cell_type": "markdown",
   "metadata": {},
   "source": [
    "### Question 1.2"
   ]
  },
  {
   "cell_type": "markdown",
   "metadata": {
    "vscode": {
     "languageId": "java"
    }
   },
   "source": [
    "1. List 1 benefit of polymorphism\n",
    "\n",
    "    It can treat multiple different types as if they were the same type. This allows us to write code that do not care what specific type it is working with, just as long as they fall under some parent type.\n",
    "\n",
    "    **Aside:** Polymorphism is kind of like upward, while inheritance is kind of like downward. Polymorphism is a way to make a single interface for different types of objects. Inheritance is a way to share code between different classes."
   ]
  },
  {
   "cell_type": "markdown",
   "metadata": {},
   "source": [
    "#### SideNote: Inheritance and Polymorphism:\n",
    "\n",
    "**Inheritance** is a mechanism in which subclasses acquire the properties and behavior of the superclass or base-class. A subclass can have more than one superclass, vise versa.  \n",
    "Every superclass' member visible from where the subclass is located is inherited by the subclass (with the exception of constructors, however constructors can be called by super.).  \n",
    "\n",
    "Members includes fields, methods, and inner/static nested classes. (Nested classes is not a subclass.)\n",
    "\n",
    "**Aside: Inner class vs. static nested class**\n",
    "\n",
    "*Inner Class*: The term inner class specifically refers to these non-static nested classes.  \n",
    "They must be associated with an instance of the outer class, so require an instance of the outer class to be instantiated. Typically used when the nested class logically needs access to the outer class's instance members.\n",
    "\n",
    "\n",
    "*Static Nested Class*:  A nested class that is marked as static. Can be instantiated without an instance of the outer class.  \n",
    "Used for organizing code and when there is no need for the nested class to have access to instance-specific data of the outer class.\n",
    "\n",
    "**Polymorphism** is the ability of an object to take on many forms. The most common use of polymorphism in OOP occurs when a parent class reference is used to refer to a child class object.\n",
    "\n",
    "One important aspect of polymorphism in Java: “the Java virtual machine\n",
    "(JVM) calls the appropriate method for the object that is referred to in each\n",
    "variable. It does not call the method that is defined by the variable's type”.\n",
    "**(Run-time polymorphism)**\n",
    "\n",
    "\n",
    "\n",
    "\n"
   ]
  },
  {
   "cell_type": "markdown",
   "metadata": {},
   "source": [
    "2. What does it mean to override or overload a method? For each, give an example as to when you'll want to use them.\n",
    "\n",
    "    To override a method means the current class is a child class and it is defining a method with the same signature as a method in the parent class.  \n",
    "    To overload a method means that the class is defining a method with the same name as another method in the class (can be inherited) but with different input types.\n",
    "\n",
    "    Overriding is useful when you need to redefine a method defined in a parent class. Overloading is useful when you have multiple valid ways to call a method.  \n",
    "    For example, if you have a class representing a math matrix, the multiply method takes a matrix as input. But we'll want to create a second multiply (overloading) so the user can also multiply the matrix with an integer."
   ]
  },
  {
   "cell_type": "markdown",
   "metadata": {
    "vscode": {
     "languageId": "java"
    }
   },
   "source": [
    "3. How do abstract class differ from regular class? List one benefit of abstract class.\n",
    "\n",
    "    Abstract classes cannot be instantiated and may contain abstract methods.  \n",
    "    This allows the programmer\n",
    "    to define a ”template” for child classes to use. The benefit of this is enforcing a set of base methods\n",
    "    for its child classes, even if implementation of the methods are not possible at this class’s definition.\n",
    "\n",
    "    **Aside:** *What happens if we turn an abstract into a non-abstract class?*\n",
    "\n",
    "    You must implement all abstract methods in the class.  \n",
    "Subclasses are no longer forced to implement abstract methods, which might lead to inconsistent behavior."
   ]
  },
  {
   "cell_type": "markdown",
   "metadata": {},
   "source": [
    "4. (True/false) A child (non-abstract) class do not need to implement all abstract methods (from a parent\n",
    "abstract class).\n",
    "\n",
    "False\n",
    "\n",
    "5. (True/false) A child abstract class do not need to implement all abstract methods (from a parent\n",
    "abstract class).\n",
    "\n",
    "**True**\n",
    "\n",
    "6. Let A be a class, let B extend A, let C extend B. Let print be a shorthand for System.out.println.  \n",
    "Each class defines method char f() which returns the class name (ex. A a = new A(); print(a.f());) prints\n",
    "“A”.  \n",
    "What do each of the following print (or if it is an error, explain the error)? [CL : Approaching\n",
    "Mastery]"
   ]
  },
  {
   "cell_type": "code",
   "execution_count": 1,
   "metadata": {},
   "outputs": [
    {
     "ename": "CompilationException",
     "evalue": "",
     "output_type": "error",
     "traceback": [
      "\u001b[1m\u001b[30m|   \u001b[1m\u001b[30m\u001b[0m\u001b[1m\u001b[30m\u001b[41mA\u001b[0m\u001b[1m\u001b[30m a = new C();\u001b[0m",
      "\u001b[1m\u001b[31mcannot find symbol\u001b[0m",
      "\u001b[1m\u001b[31m  symbol:   class A\u001b[0m",
      "",
      "\u001b[1m\u001b[30m|   \u001b[1m\u001b[30mA a = new \u001b[0m\u001b[1m\u001b[30m\u001b[41mC\u001b[0m\u001b[1m\u001b[30m();\u001b[0m",
      "\u001b[1m\u001b[31mcannot find symbol\u001b[0m",
      "\u001b[1m\u001b[31m  symbol:   class C\u001b[0m",
      ""
     ]
    }
   ],
   "source": [
    "A a = new C(); print(a.f()); \n",
    "// It will print \"C.f()\" because the method is overridden in C.\n",
    "B b = new C(); print(b.f());\n",
    "// It will print \"C.f()\" because the method is overridden in C.\n",
    "C c = new C(); print(c.f());\n",
    "// It will print \"C.f()\" because the method is overridden in C.\n",
    "Object o = new C(); print(o.f());\n",
    "// Error (compile time) because the method f() is not defined in Object class.  \n",
    "B b = new A(); print(b.f());\n",
    "// Error (compile time) because type A can not be converted to B,\n",
    "// attempts to assign an instance of A to a reference of type B. "
   ]
  },
  {
   "cell_type": "markdown",
   "metadata": {},
   "source": [
    "### Question 1.3"
   ]
  },
  {
   "cell_type": "markdown",
   "metadata": {},
   "source": [
    "A. How do array lists and linked lists differ?\n",
    "\n",
    "ArrayLists use an array to store elements,  \n",
    "while linked lists use nodes to store elements with pointers to\n",
    "neighboring elements.\n",
    "\n",
    "ArrayLists are faster for get operations (as access is always O(1)),  \n",
    "LinkedLists are O(1) for adding/removing the first element of the list (far faster than ArrayLists which need shift\n",
    "all elements after the new element to the right)"
   ]
  },
  {
   "cell_type": "markdown",
   "metadata": {},
   "source": [
    "B. What is meant by the \"head\" reference in a linked list? Can you reasonably have a linked list without a head? Justify your answer. [CL: Mastery]\n",
    "\n",
    "The head reference in a linked list refers to the first node of the list. It serves as the entry point for\n",
    "traversing the list. You cannot reasonably have a linked list without a head, many core operations like\n",
    "get,add,remove,etc can’t really be implemented, making the list useless.\n",
    "\n",
    "(side note, for doubly linked lists you can technically use the tail as the head, but then it effectively\n",
    "becomes the head, and we ask about a linked list which does not use such a reference)"
   ]
  },
  {
   "cell_type": "markdown",
   "metadata": {},
   "source": [
    "C. Why might you choose to use a singly linked list over a doubly linked list? [CL: Approaching Mastery]\n",
    "\n",
    "Singly linked lists need to keep track of one less pointer per node, making them easier to implement\n",
    "and require less memory.\n",
    "\n",
    "If you do not need to traverse the list in reverse nor modify elements far\n",
    "from the head then singly linked lists are the better choice."
   ]
  }
 ],
 "metadata": {
  "kernelspec": {
   "display_name": "Java",
   "language": "java",
   "name": "java"
  },
  "language_info": {
   "codemirror_mode": "java",
   "file_extension": ".jshell",
   "mimetype": "text/x-java-source",
   "name": "java",
   "pygments_lexer": "java",
   "version": "22.0.2+9-70"
  }
 },
 "nbformat": 4,
 "nbformat_minor": 2
}

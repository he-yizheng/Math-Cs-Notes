{
 "cells": [
  {
   "cell_type": "code",
   "execution_count": 3,
   "metadata": {},
   "outputs": [
    {
     "ename": "CompilationException",
     "evalue": "",
     "output_type": "error",
     "traceback": [
      "\u001b[1m\u001b[30m|   \u001b[1m\u001b[30mtest = \u001b[0m\u001b[1m\u001b[30m\u001b[41mgetFrequency\u001b[0m\u001b[1m\u001b[30m(word);\u001b[0m",
      "\u001b[1m\u001b[31mcannot find symbol\u001b[0m",
      "\u001b[1m\u001b[31m  symbol:   method getFrequency(java.lang.String)\u001b[0m",
      ""
     ]
    }
   ],
   "source": [
    "import java.util.Arrays;\n",
    "\n",
    "int[] test = new int[26];\n",
    "int[] test2 = new int[26];\n",
    "String word = \"hello\";\n",
    "test = getFrequency(word);\n",
    "//test2 = getFrequency2(word);\n",
    "System.out.println(Arrays.toString(test));\n",
    "// System.out.println(Arrays.toString(test2));\n",
    "\n",
    "public static int[] getFrequency(String word) {\n",
    "    int[] frequency = new int[26];\n",
    "    for (int i = 0; i < word.length(); i++) {\n",
    "        frequency[word.charAt(i) - 'a']++;\n",
    "    }\n",
    "    return frequency;\n",
    "}\n",
    "\n",
    "public static int[] getFrequency2(String s) {\n",
    "    int[] freq = new int[26];\n",
    "    for (int i = 0; i < 26; i++) {\n",
    "        int count = 0;\n",
    "        for (int j = 0; j < s.length(); j++) {\n",
    "            if (s.charAt(j) == (char) (i + 97)) {\n",
    "                count++;\n",
    "            }\n",
    "        }\n",
    "        freq[i] = count;\n",
    "    }\n",
    "    return freq;\n",
    "}\n",
    "\n",
    "\n"
   ]
  },
  {
   "cell_type": "code",
   "execution_count": null,
   "metadata": {},
   "outputs": [],
   "source": []
  }
 ],
 "metadata": {
  "kernelspec": {
   "display_name": "Java",
   "language": "java",
   "name": "java"
  },
  "language_info": {
   "codemirror_mode": "java",
   "file_extension": ".jshell",
   "mimetype": "text/x-java-source",
   "name": "java",
   "pygments_lexer": "java",
   "version": "22.0.2+9-70"
  }
 },
 "nbformat": 4,
 "nbformat_minor": 2
}

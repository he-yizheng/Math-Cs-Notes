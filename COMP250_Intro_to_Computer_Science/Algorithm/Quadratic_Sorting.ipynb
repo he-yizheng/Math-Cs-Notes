{
 "cells": [
  {
   "cell_type": "markdown",
   "metadata": {},
   "source": [
    "### Quadratic sorting"
   ]
  },
  {
   "cell_type": "markdown",
   "metadata": {
    "vscode": {
     "languageId": "plaintext"
    }
   },
   "source": [
    "#### Bubblesort\n",
    "You traverse\n",
    "through the list repeatedly, and whenever you find two neighboring elements that are out of order,\n",
    "you swap them. Elements gradually make their way to their correct position in the list. The\n",
    "algorithm is called bubblesort because it invokes the concept of bubbles rising in a fluid, which\n",
    "some people apparently find helpful to think about."
   ]
  },
  {
   "cell_type": "code",
   "execution_count": 6,
   "metadata": {},
   "outputs": [
    {
     "name": "stdout",
     "output_type": "stream",
     "text": [
      "Sorted array\n",
      "11 12 22 25 34 64 90 \n"
     ]
    }
   ],
   "source": [
    "static void bubbleSort(int[] arr) {\n",
    "    int n = arr.length;\n",
    "    for (int i = 0; i < n - 1; i++)\n",
    "        for (int j = 0; j < n - i - 1; j++)\n",
    "            if (arr[j] > arr[j + 1]) {\n",
    "                // swap arr[j+1] and arr[j]\n",
    "                int temp = arr[j];\n",
    "                arr[j] = arr[j + 1];\n",
    "                arr[j + 1] = temp;\n",
    "            }\n",
    "}\n",
    "\n",
    "static void printArray(int[] arr) {\n",
    "    int n = arr.length;\n",
    "    for (int i = 0; i < n; i++)\n",
    "        System.out.print(arr[i] + \" \");\n",
    "    System.out.println();\n",
    "}\n",
    "\n",
    "int[] arr = { 64, 34, 25, 12, 22, 11, 90 };\n",
    "bubbleSort(arr);\n",
    "System.out.println(\"Sorted array\");\n",
    "printArray(arr);;\n"
   ]
  },
  {
   "cell_type": "markdown",
   "metadata": {
    "vscode": {
     "languageId": "java"
    }
   },
   "source": [
    "Do you always need N− 1 passes to put all the elements in order? No. For example, if elements\n",
    "are already sorted, then the outer loop only needs to run once. Let’s modify the pseudocode so that\n",
    "we can detect when the elements are in order, and stop."
   ]
  },
  {
   "cell_type": "code",
   "execution_count": 21,
   "metadata": {},
   "outputs": [
    {
     "name": "stdout",
     "output_type": "stream",
     "text": [
      "Sorted array\n",
      "1 11 12 22 25 34 64 90 \n"
     ]
    }
   ],
   "source": [
    "static void bubbleSort(int[] arr) {\n",
    "    boolean sorted = false;\n",
    "    int i = 1;\n",
    "    while (!sorted) {\n",
    "        sorted = true;\n",
    "        for (int j = 0; j < arr.length - i; j++) {\n",
    "            if (arr[j] > arr[j + 1]) {\n",
    "                int temp = arr[j];\n",
    "                arr[j] = arr[j + 1];\n",
    "                arr[j + 1] = temp;\n",
    "                sorted = false;\n",
    "            }\n",
    "        }\n",
    "        i++;\n",
    "    }\n",
    "}\n",
    "int[] arr = { 64, 34, 25, 12, 22, 11, 90 ,1};\n",
    "bubbleSort(arr);\n",
    "System.out.println(\"Sorted array\");\n",
    "printArray(arr);;"
   ]
  },
  {
   "cell_type": "markdown",
   "metadata": {
    "vscode": {
     "languageId": "java"
    }
   },
   "source": [
    "#### Selection sort\n",
    "\n",
    "The second algorithm we examine is called Selection Sort. The idea of this algorithm is to partition\n",
    "the list into two parts. The first part contains the smallest elements, in order. The second part\n",
    "contains the remaining elements.\n",
    "The algorithm uses an index counter i and starts with i = 0. For each i, the sorted part is the\n",
    "list up to and not including i, and the “rest” part is the list from positions i to list.size− 1. For\n",
    "each i, the algorithm finds the minimum element in the rest part. If this minimum element is at a\n",
    "position (index) diﬀerent from i, then it swaps this minimum element with the element at position\n",
    "i. The elemement at position i then becomes the last element in the sorted part.\n"
   ]
  },
  {
   "cell_type": "code",
   "execution_count": 22,
   "metadata": {},
   "outputs": [
    {
     "name": "stdout",
     "output_type": "stream",
     "text": [
      "Sorted array\n",
      "1 11 12 22 25 34 64 90 \n"
     ]
    }
   ],
   "source": [
    "static void selectionSort(int[] arr) {\n",
    "    int n = arr.length;\n",
    "    for (int i = 0; i < n - 1; i++) {\n",
    "        int min_idx = i;\n",
    "        for (int j = i + 1; j < n; j++)\n",
    "            if (arr[j] < arr[min_idx])\n",
    "                min_idx = j;\n",
    "        int temp = arr[min_idx];\n",
    "        arr[min_idx] = arr[i];\n",
    "        arr[i] = temp;\n",
    "    }\n",
    "}\n",
    "int[] arr = { 64, 34, 25, 12, 22, 11, 90 ,1};\n",
    "selectionSort(arr);\n",
    "System.out.println(\"Sorted array\");\n",
    "printArray(arr);\n"
   ]
  },
  {
   "cell_type": "markdown",
   "metadata": {},
   "source": [
    "#### Insertion sort"
   ]
  },
  {
   "cell_type": "code",
   "execution_count": 26,
   "metadata": {},
   "outputs": [
    {
     "name": "stdout",
     "output_type": "stream",
     "text": [
      "Sorted array\n",
      "0 1 11 12 22 25 34 64 90 \n"
     ]
    }
   ],
   "source": [
    "static void insertionSort(int[] arr) {\n",
    "    int n = arr.length;\n",
    "    for (int i = 1; i < n; ++i) {\n",
    "        int key = arr[i];\n",
    "        int j = i - 1;\n",
    "        while (j >= 0 && arr[j] > key) {\n",
    "            arr[j + 1] = arr[j];\n",
    "            j = j - 1;\n",
    "        }\n",
    "        arr[j + 1] = key;\n",
    "    }\n",
    "}\n",
    "int[] arr = { 64, 34, 25, 12, 22, 11, 90 ,1, 0};\n",
    "selectionSort(arr);\n",
    "System.out.println(\"Sorted array\");\n",
    "printArray(arr);"
   ]
  },
  {
   "cell_type": "code",
   "execution_count": null,
   "metadata": {},
   "outputs": [
    {
     "name": "stdout",
     "output_type": "stream",
     "text": [
      "3A34\n"
     ]
    }
   ],
   "source": [
    "System.out.println(1 + 2 + \"A\" + 3 + 4)"
   ]
  },
  {
   "cell_type": "code",
   "execution_count": null,
   "metadata": {},
   "outputs": [],
   "source": []
  },
  {
   "cell_type": "code",
   "execution_count": 8,
   "metadata": {},
   "outputs": [
    {
     "name": "stdout",
     "output_type": "stream",
     "text": [
      "2.0\n"
     ]
    }
   ],
   "source": [
    "int x = 5;\n",
    "double y = x/2;\n",
    "y = 2;\n",
    "System.out.println(y);"
   ]
  },
  {
   "cell_type": "code",
   "execution_count": 9,
   "metadata": {},
   "outputs": [
    {
     "name": "stdout",
     "output_type": "stream",
     "text": [
      "2.0\n"
     ]
    }
   ],
   "source": [
    "System.out.println((double) (x / 2))"
   ]
  },
  {
   "cell_type": "code",
   "execution_count": 10,
   "metadata": {},
   "outputs": [
    {
     "name": "stdout",
     "output_type": "stream",
     "text": [
      "0\n"
     ]
    }
   ],
   "source": [
    "int[] ray = new int[5];\n",
    "System.out.println(ray[3])"
   ]
  },
  {
   "cell_type": "code",
   "execution_count": 11,
   "metadata": {},
   "outputs": [
    {
     "ename": "EvalException",
     "evalue": "Index -1 out of bounds for length 6",
     "output_type": "error",
     "traceback": [
      "\u001b[1m\u001b[31m---------------------------------------------------------------------------\u001b[0m",
      "\u001b[1m\u001b[31mjava.lang.ArrayIndexOutOfBoundsException: Index -1 out of bounds for length 6\u001b[0m",
      "\u001b[1m\u001b[31m\tat .(#25:1)\u001b[0m"
     ]
    }
   ],
   "source": [
    "int[] ray = {1,2,3,4,5,6};\n",
    "System.out.println(ray[-1]);"
   ]
  },
  {
   "cell_type": "code",
   "execution_count": 12,
   "metadata": {},
   "outputs": [
    {
     "name": "stdout",
     "output_type": "stream",
     "text": [
      "true\n"
     ]
    }
   ],
   "source": [
    "int[] ray = {1,2,3,4,5,6};\n",
    "System.out.println(ray[1] > 0 || ray[-1] > 0);"
   ]
  },
  {
   "cell_type": "code",
   "execution_count": 14,
   "metadata": {},
   "outputs": [
    {
     "name": "stdout",
     "output_type": "stream",
     "text": [
      "4\n"
     ]
    }
   ],
   "source": [
    "int[] ray = {1,2,3,4,5,6};\n",
    "for(int x : ray) {\n",
    "x = 3;\n",
    "}\n",
    "System.out.println(ray[3])"
   ]
  },
  {
   "cell_type": "code",
   "execution_count": 15,
   "metadata": {},
   "outputs": [
    {
     "ename": "EvalException",
     "evalue": "Index 0 out of bounds for length 0",
     "output_type": "error",
     "traceback": [
      "\u001b[1m\u001b[31m---------------------------------------------------------------------------\u001b[0m",
      "\u001b[1m\u001b[31mjava.lang.IndexOutOfBoundsException: Index 0 out of bounds for length 0\u001b[0m",
      "\u001b[1m\u001b[31m\tat java.base/jdk.internal.util.Preconditions.outOfBounds(Preconditions.java:100)\u001b[0m",
      "\u001b[1m\u001b[31m\tat java.base/jdk.internal.util.Preconditions.outOfBoundsCheckIndex(Preconditions.java:106)\u001b[0m",
      "\u001b[1m\u001b[31m\tat java.base/jdk.internal.util.Preconditions.checkIndex(Preconditions.java:302)\u001b[0m",
      "\u001b[1m\u001b[31m\tat java.base/java.util.Objects.checkIndex(Objects.java:365)\u001b[0m",
      "\u001b[1m\u001b[31m\tat java.base/java.util.ArrayList.set(ArrayList.java:471)\u001b[0m",
      "\u001b[1m\u001b[31m\tat .(#30:1)\u001b[0m"
     ]
    }
   ],
   "source": [
    "ArrayList<Integer> ray = new ArrayList();\n",
    "for(int i=0; i<5; i++) {\n",
    "ray.set(i, i*2);\n",
    "}\n",
    "System.out.println(ray.get(3));"
   ]
  },
  {
   "cell_type": "code",
   "execution_count": 11,
   "metadata": {},
   "outputs": [
    {
     "name": "stdout",
     "output_type": "stream",
     "text": [
      "5\n"
     ]
    }
   ],
   "source": [
    "int[][] a = {{1, 2}, {3, 4}};\n",
    "\n",
    "public static void test(int[][] t) {\n",
    "int[][] x = t;\n",
    "x[0] = new int[3];\n",
    "x[0][0] = 5;\n",
    "}\n",
    "test(a);\n",
    "\n",
    "System.out.println(a[0][0]);"
   ]
  },
  {
   "cell_type": "code",
   "execution_count": null,
   "metadata": {},
   "outputs": [],
   "source": []
  }
 ],
 "metadata": {
  "kernelspec": {
   "display_name": "Java",
   "language": "java",
   "name": "java"
  },
  "language_info": {
   "codemirror_mode": "java",
   "file_extension": ".jshell",
   "mimetype": "text/x-java-source",
   "name": "java",
   "pygments_lexer": "java",
   "version": "22.0.2+9-70"
  }
 },
 "nbformat": 4,
 "nbformat_minor": 2
}
